{
 "cells": [
  {
   "cell_type": "markdown",
   "metadata": {},
   "source": [
    "# Data analysis"
   ]
  },
  {
   "cell_type": "code",
   "execution_count": 18,
   "metadata": {},
   "outputs": [
    {
     "name": "stderr",
     "output_type": "stream",
     "text": [
      "/home/volodymyr/envs/sudoku_nn/lib/python3.7/site-packages/tensorflow/python/framework/dtypes.py:523: FutureWarning: Passing (type, 1) or '1type' as a synonym of type is deprecated; in a future version of numpy, it will be understood as (type, (1,)) / '(1,)type'.\n",
      "  _np_qint8 = np.dtype([(\"qint8\", np.int8, 1)])\n",
      "/home/volodymyr/envs/sudoku_nn/lib/python3.7/site-packages/tensorflow/python/framework/dtypes.py:524: FutureWarning: Passing (type, 1) or '1type' as a synonym of type is deprecated; in a future version of numpy, it will be understood as (type, (1,)) / '(1,)type'.\n",
      "  _np_quint8 = np.dtype([(\"quint8\", np.uint8, 1)])\n",
      "/home/volodymyr/envs/sudoku_nn/lib/python3.7/site-packages/tensorflow/python/framework/dtypes.py:525: FutureWarning: Passing (type, 1) or '1type' as a synonym of type is deprecated; in a future version of numpy, it will be understood as (type, (1,)) / '(1,)type'.\n",
      "  _np_qint16 = np.dtype([(\"qint16\", np.int16, 1)])\n",
      "/home/volodymyr/envs/sudoku_nn/lib/python3.7/site-packages/tensorflow/python/framework/dtypes.py:526: FutureWarning: Passing (type, 1) or '1type' as a synonym of type is deprecated; in a future version of numpy, it will be understood as (type, (1,)) / '(1,)type'.\n",
      "  _np_quint16 = np.dtype([(\"quint16\", np.uint16, 1)])\n",
      "/home/volodymyr/envs/sudoku_nn/lib/python3.7/site-packages/tensorflow/python/framework/dtypes.py:527: FutureWarning: Passing (type, 1) or '1type' as a synonym of type is deprecated; in a future version of numpy, it will be understood as (type, (1,)) / '(1,)type'.\n",
      "  _np_qint32 = np.dtype([(\"qint32\", np.int32, 1)])\n",
      "/home/volodymyr/envs/sudoku_nn/lib/python3.7/site-packages/tensorflow/python/framework/dtypes.py:532: FutureWarning: Passing (type, 1) or '1type' as a synonym of type is deprecated; in a future version of numpy, it will be understood as (type, (1,)) / '(1,)type'.\n",
      "  np_resource = np.dtype([(\"resource\", np.ubyte, 1)])\n",
      "/home/volodymyr/envs/sudoku_nn/lib/python3.7/site-packages/tensorboard/compat/tensorflow_stub/dtypes.py:541: FutureWarning: Passing (type, 1) or '1type' as a synonym of type is deprecated; in a future version of numpy, it will be understood as (type, (1,)) / '(1,)type'.\n",
      "  _np_qint8 = np.dtype([(\"qint8\", np.int8, 1)])\n",
      "/home/volodymyr/envs/sudoku_nn/lib/python3.7/site-packages/tensorboard/compat/tensorflow_stub/dtypes.py:542: FutureWarning: Passing (type, 1) or '1type' as a synonym of type is deprecated; in a future version of numpy, it will be understood as (type, (1,)) / '(1,)type'.\n",
      "  _np_quint8 = np.dtype([(\"quint8\", np.uint8, 1)])\n",
      "/home/volodymyr/envs/sudoku_nn/lib/python3.7/site-packages/tensorboard/compat/tensorflow_stub/dtypes.py:543: FutureWarning: Passing (type, 1) or '1type' as a synonym of type is deprecated; in a future version of numpy, it will be understood as (type, (1,)) / '(1,)type'.\n",
      "  _np_qint16 = np.dtype([(\"qint16\", np.int16, 1)])\n",
      "/home/volodymyr/envs/sudoku_nn/lib/python3.7/site-packages/tensorboard/compat/tensorflow_stub/dtypes.py:544: FutureWarning: Passing (type, 1) or '1type' as a synonym of type is deprecated; in a future version of numpy, it will be understood as (type, (1,)) / '(1,)type'.\n",
      "  _np_quint16 = np.dtype([(\"quint16\", np.uint16, 1)])\n",
      "/home/volodymyr/envs/sudoku_nn/lib/python3.7/site-packages/tensorboard/compat/tensorflow_stub/dtypes.py:545: FutureWarning: Passing (type, 1) or '1type' as a synonym of type is deprecated; in a future version of numpy, it will be understood as (type, (1,)) / '(1,)type'.\n",
      "  _np_qint32 = np.dtype([(\"qint32\", np.int32, 1)])\n",
      "/home/volodymyr/envs/sudoku_nn/lib/python3.7/site-packages/tensorboard/compat/tensorflow_stub/dtypes.py:550: FutureWarning: Passing (type, 1) or '1type' as a synonym of type is deprecated; in a future version of numpy, it will be understood as (type, (1,)) / '(1,)type'.\n",
      "  np_resource = np.dtype([(\"resource\", np.ubyte, 1)])\n"
     ]
    }
   ],
   "source": [
    "import pandas as pd\n",
    "import numpy as np\n",
    "import seaborn as sns\n",
    "import tensorflow as tf"
   ]
  },
  {
   "cell_type": "code",
   "execution_count": 19,
   "metadata": {},
   "outputs": [],
   "source": [
    "df = pd.read_csv('train.csv')"
   ]
  },
  {
   "cell_type": "code",
   "execution_count": 20,
   "metadata": {},
   "outputs": [
    {
     "data": {
      "text/html": [
       "<div>\n",
       "<style scoped>\n",
       "    .dataframe tbody tr th:only-of-type {\n",
       "        vertical-align: middle;\n",
       "    }\n",
       "\n",
       "    .dataframe tbody tr th {\n",
       "        vertical-align: top;\n",
       "    }\n",
       "\n",
       "    .dataframe thead th {\n",
       "        text-align: right;\n",
       "    }\n",
       "</style>\n",
       "<table border=\"1\" class=\"dataframe\">\n",
       "  <thead>\n",
       "    <tr style=\"text-align: right;\">\n",
       "      <th></th>\n",
       "      <th>Id</th>\n",
       "      <th>Province_State</th>\n",
       "      <th>Country_Region</th>\n",
       "      <th>Date</th>\n",
       "      <th>ConfirmedCases</th>\n",
       "      <th>Fatalities</th>\n",
       "    </tr>\n",
       "  </thead>\n",
       "  <tbody>\n",
       "    <tr>\n",
       "      <th>0</th>\n",
       "      <td>1</td>\n",
       "      <td>NaN</td>\n",
       "      <td>Afghanistan</td>\n",
       "      <td>2020-01-22</td>\n",
       "      <td>0.0</td>\n",
       "      <td>0.0</td>\n",
       "    </tr>\n",
       "    <tr>\n",
       "      <th>1</th>\n",
       "      <td>2</td>\n",
       "      <td>NaN</td>\n",
       "      <td>Afghanistan</td>\n",
       "      <td>2020-01-23</td>\n",
       "      <td>0.0</td>\n",
       "      <td>0.0</td>\n",
       "    </tr>\n",
       "    <tr>\n",
       "      <th>2</th>\n",
       "      <td>3</td>\n",
       "      <td>NaN</td>\n",
       "      <td>Afghanistan</td>\n",
       "      <td>2020-01-24</td>\n",
       "      <td>0.0</td>\n",
       "      <td>0.0</td>\n",
       "    </tr>\n",
       "    <tr>\n",
       "      <th>3</th>\n",
       "      <td>4</td>\n",
       "      <td>NaN</td>\n",
       "      <td>Afghanistan</td>\n",
       "      <td>2020-01-25</td>\n",
       "      <td>0.0</td>\n",
       "      <td>0.0</td>\n",
       "    </tr>\n",
       "    <tr>\n",
       "      <th>4</th>\n",
       "      <td>5</td>\n",
       "      <td>NaN</td>\n",
       "      <td>Afghanistan</td>\n",
       "      <td>2020-01-26</td>\n",
       "      <td>0.0</td>\n",
       "      <td>0.0</td>\n",
       "    </tr>\n",
       "  </tbody>\n",
       "</table>\n",
       "</div>"
      ],
      "text/plain": [
       "   Id Province_State Country_Region        Date  ConfirmedCases  Fatalities\n",
       "0   1            NaN    Afghanistan  2020-01-22             0.0         0.0\n",
       "1   2            NaN    Afghanistan  2020-01-23             0.0         0.0\n",
       "2   3            NaN    Afghanistan  2020-01-24             0.0         0.0\n",
       "3   4            NaN    Afghanistan  2020-01-25             0.0         0.0\n",
       "4   5            NaN    Afghanistan  2020-01-26             0.0         0.0"
      ]
     },
     "execution_count": 20,
     "metadata": {},
     "output_type": "execute_result"
    }
   ],
   "source": [
    "df.head()"
   ]
  },
  {
   "cell_type": "code",
   "execution_count": 21,
   "metadata": {},
   "outputs": [
    {
     "data": {
      "text/html": [
       "<div>\n",
       "<style scoped>\n",
       "    .dataframe tbody tr th:only-of-type {\n",
       "        vertical-align: middle;\n",
       "    }\n",
       "\n",
       "    .dataframe tbody tr th {\n",
       "        vertical-align: top;\n",
       "    }\n",
       "\n",
       "    .dataframe thead th {\n",
       "        text-align: right;\n",
       "    }\n",
       "</style>\n",
       "<table border=\"1\" class=\"dataframe\">\n",
       "  <thead>\n",
       "    <tr style=\"text-align: right;\">\n",
       "      <th></th>\n",
       "      <th>Id</th>\n",
       "      <th>ConfirmedCases</th>\n",
       "      <th>Fatalities</th>\n",
       "    </tr>\n",
       "  </thead>\n",
       "  <tbody>\n",
       "    <tr>\n",
       "      <th>count</th>\n",
       "      <td>22644.000000</td>\n",
       "      <td>22644.000000</td>\n",
       "      <td>22644.000000</td>\n",
       "    </tr>\n",
       "    <tr>\n",
       "      <th>mean</th>\n",
       "      <td>16355.000000</td>\n",
       "      <td>655.267002</td>\n",
       "      <td>29.015412</td>\n",
       "    </tr>\n",
       "    <tr>\n",
       "      <th>std</th>\n",
       "      <td>9451.983632</td>\n",
       "      <td>5428.632429</td>\n",
       "      <td>382.138505</td>\n",
       "    </tr>\n",
       "    <tr>\n",
       "      <th>min</th>\n",
       "      <td>1.000000</td>\n",
       "      <td>0.000000</td>\n",
       "      <td>0.000000</td>\n",
       "    </tr>\n",
       "    <tr>\n",
       "      <th>25%</th>\n",
       "      <td>8169.750000</td>\n",
       "      <td>0.000000</td>\n",
       "      <td>0.000000</td>\n",
       "    </tr>\n",
       "    <tr>\n",
       "      <th>50%</th>\n",
       "      <td>16355.000000</td>\n",
       "      <td>0.000000</td>\n",
       "      <td>0.000000</td>\n",
       "    </tr>\n",
       "    <tr>\n",
       "      <th>75%</th>\n",
       "      <td>24540.250000</td>\n",
       "      <td>51.000000</td>\n",
       "      <td>0.000000</td>\n",
       "    </tr>\n",
       "    <tr>\n",
       "      <th>max</th>\n",
       "      <td>32709.000000</td>\n",
       "      <td>126168.000000</td>\n",
       "      <td>15362.000000</td>\n",
       "    </tr>\n",
       "  </tbody>\n",
       "</table>\n",
       "</div>"
      ],
      "text/plain": [
       "                 Id  ConfirmedCases    Fatalities\n",
       "count  22644.000000    22644.000000  22644.000000\n",
       "mean   16355.000000      655.267002     29.015412\n",
       "std     9451.983632     5428.632429    382.138505\n",
       "min        1.000000        0.000000      0.000000\n",
       "25%     8169.750000        0.000000      0.000000\n",
       "50%    16355.000000        0.000000      0.000000\n",
       "75%    24540.250000       51.000000      0.000000\n",
       "max    32709.000000   126168.000000  15362.000000"
      ]
     },
     "execution_count": 21,
     "metadata": {},
     "output_type": "execute_result"
    }
   ],
   "source": [
    "df.describe()"
   ]
  },
  {
   "cell_type": "code",
   "execution_count": 22,
   "metadata": {},
   "outputs": [
    {
     "data": {
      "text/plain": [
       "US                3996\n",
       "China             2442\n",
       "Canada             888\n",
       "United Kingdom     740\n",
       "France             740\n",
       "                  ... \n",
       "Honduras            74\n",
       "Mexico              74\n",
       "Singapore           74\n",
       "San Marino          74\n",
       "Romania             74\n",
       "Name: Country_Region, Length: 180, dtype: int64"
      ]
     },
     "execution_count": 22,
     "metadata": {},
     "output_type": "execute_result"
    }
   ],
   "source": [
    "df['Country_Region'].value_counts()"
   ]
  },
  {
   "cell_type": "code",
   "execution_count": 23,
   "metadata": {},
   "outputs": [
    {
     "data": {
      "text/plain": [
       "China                  2248\n",
       "US                     1196\n",
       "Canada                  208\n",
       "France                  187\n",
       "Australia               186\n",
       "                       ... \n",
       "Antigua and Barbuda       2\n",
       "Guinea-Bissau             2\n",
       "Angola                    1\n",
       "Liberia                   1\n",
       "Fiji                      1\n",
       "Name: Country_Region, Length: 159, dtype: int64"
      ]
     },
     "execution_count": 23,
     "metadata": {},
     "output_type": "execute_result"
    }
   ],
   "source": [
    "df[df['ConfirmedCases']>=10]['Country_Region'].value_counts()"
   ]
  },
  {
   "cell_type": "code",
   "execution_count": 24,
   "metadata": {},
   "outputs": [
    {
     "data": {
      "text/plain": [
       "52       2020-03-14\n",
       "53       2020-03-15\n",
       "54       2020-03-16\n",
       "55       2020-03-17\n",
       "56       2020-03-18\n",
       "            ...    \n",
       "22565    2020-03-31\n",
       "22566    2020-04-01\n",
       "22567    2020-04-02\n",
       "22568    2020-04-03\n",
       "22569    2020-04-04\n",
       "Name: Date, Length: 7736, dtype: object"
      ]
     },
     "execution_count": 24,
     "metadata": {},
     "output_type": "execute_result"
    }
   ],
   "source": [
    "df[df['ConfirmedCases']>=10]['Date']"
   ]
  },
  {
   "cell_type": "code",
   "execution_count": 25,
   "metadata": {},
   "outputs": [
    {
     "data": {
      "text/plain": [
       "74"
      ]
     },
     "execution_count": 25,
     "metadata": {},
     "output_type": "execute_result"
    }
   ],
   "source": [
    "df['Date'].nunique()"
   ]
  },
  {
   "cell_type": "code",
   "execution_count": 26,
   "metadata": {},
   "outputs": [
    {
     "data": {
      "text/plain": [
       "180"
      ]
     },
     "execution_count": 26,
     "metadata": {},
     "output_type": "execute_result"
    }
   ],
   "source": [
    "df['Country_Region'].nunique()"
   ]
  },
  {
   "cell_type": "markdown",
   "metadata": {},
   "source": [
    "# DATA TRANSFORMATION"
   ]
  },
  {
   "cell_type": "markdown",
   "metadata": {},
   "source": [
    "NaN values imputation"
   ]
  },
  {
   "cell_type": "code",
   "execution_count": 27,
   "metadata": {},
   "outputs": [],
   "source": [
    "df['Province_State'] = df['Province_State'].fillna('unknown')"
   ]
  },
  {
   "cell_type": "code",
   "execution_count": 28,
   "metadata": {},
   "outputs": [
    {
     "data": {
      "text/html": [
       "<div>\n",
       "<style scoped>\n",
       "    .dataframe tbody tr th:only-of-type {\n",
       "        vertical-align: middle;\n",
       "    }\n",
       "\n",
       "    .dataframe tbody tr th {\n",
       "        vertical-align: top;\n",
       "    }\n",
       "\n",
       "    .dataframe thead th {\n",
       "        text-align: right;\n",
       "    }\n",
       "</style>\n",
       "<table border=\"1\" class=\"dataframe\">\n",
       "  <thead>\n",
       "    <tr style=\"text-align: right;\">\n",
       "      <th></th>\n",
       "      <th>Id</th>\n",
       "      <th>Province_State</th>\n",
       "      <th>Country_Region</th>\n",
       "      <th>Date</th>\n",
       "      <th>ConfirmedCases</th>\n",
       "      <th>Fatalities</th>\n",
       "    </tr>\n",
       "  </thead>\n",
       "  <tbody>\n",
       "    <tr>\n",
       "      <th>0</th>\n",
       "      <td>1</td>\n",
       "      <td>unknown</td>\n",
       "      <td>Afghanistan</td>\n",
       "      <td>2020-01-22</td>\n",
       "      <td>0.0</td>\n",
       "      <td>0.0</td>\n",
       "    </tr>\n",
       "    <tr>\n",
       "      <th>1</th>\n",
       "      <td>2</td>\n",
       "      <td>unknown</td>\n",
       "      <td>Afghanistan</td>\n",
       "      <td>2020-01-23</td>\n",
       "      <td>0.0</td>\n",
       "      <td>0.0</td>\n",
       "    </tr>\n",
       "    <tr>\n",
       "      <th>2</th>\n",
       "      <td>3</td>\n",
       "      <td>unknown</td>\n",
       "      <td>Afghanistan</td>\n",
       "      <td>2020-01-24</td>\n",
       "      <td>0.0</td>\n",
       "      <td>0.0</td>\n",
       "    </tr>\n",
       "    <tr>\n",
       "      <th>3</th>\n",
       "      <td>4</td>\n",
       "      <td>unknown</td>\n",
       "      <td>Afghanistan</td>\n",
       "      <td>2020-01-25</td>\n",
       "      <td>0.0</td>\n",
       "      <td>0.0</td>\n",
       "    </tr>\n",
       "    <tr>\n",
       "      <th>4</th>\n",
       "      <td>5</td>\n",
       "      <td>unknown</td>\n",
       "      <td>Afghanistan</td>\n",
       "      <td>2020-01-26</td>\n",
       "      <td>0.0</td>\n",
       "      <td>0.0</td>\n",
       "    </tr>\n",
       "  </tbody>\n",
       "</table>\n",
       "</div>"
      ],
      "text/plain": [
       "   Id Province_State Country_Region        Date  ConfirmedCases  Fatalities\n",
       "0   1        unknown    Afghanistan  2020-01-22             0.0         0.0\n",
       "1   2        unknown    Afghanistan  2020-01-23             0.0         0.0\n",
       "2   3        unknown    Afghanistan  2020-01-24             0.0         0.0\n",
       "3   4        unknown    Afghanistan  2020-01-25             0.0         0.0\n",
       "4   5        unknown    Afghanistan  2020-01-26             0.0         0.0"
      ]
     },
     "execution_count": 28,
     "metadata": {},
     "output_type": "execute_result"
    }
   ],
   "source": [
    "df.head()"
   ]
  },
  {
   "cell_type": "code",
   "execution_count": 29,
   "metadata": {},
   "outputs": [
    {
     "data": {
      "text/plain": [
       "22644"
      ]
     },
     "execution_count": 29,
     "metadata": {},
     "output_type": "execute_result"
    }
   ],
   "source": [
    "len(df)"
   ]
  },
  {
   "cell_type": "code",
   "execution_count": 30,
   "metadata": {},
   "outputs": [],
   "source": [
    "df['Country_Region'] = df['Country_Region'].astype('category')\n",
    "df['Province_State'] = df['Province_State'].astype('category')"
   ]
  },
  {
   "cell_type": "code",
   "execution_count": 31,
   "metadata": {},
   "outputs": [],
   "source": [
    "mapping_region = dict(zip(df['Country_Region'].values,df['Country_Region'].cat.codes))\n",
    "mapping_province = dict(zip(df['Province_State'].values,df['Province_State'].cat.codes))"
   ]
  },
  {
   "cell_type": "code",
   "execution_count": 32,
   "metadata": {},
   "outputs": [],
   "source": [
    "def slice_data(df,length=5):\n",
    "    X = []\n",
    "    y1 = []\n",
    "    y2 = []\n",
    "    X_cat1 = []\n",
    "    X_cat2 = []\n",
    "    for i in range(len(df)-length):\n",
    "            X1 = df['ConfirmedCases'].values[i:length+i].reshape(-1,1)\n",
    "            X2 = df['Fatalities'].values[i:length+i].reshape(-1,1)\n",
    "            X.append(np.hstack((X1,X2)))\n",
    "            y1.append(df['ConfirmedCases'].values[length+i])\n",
    "            y2.append(df['Fatalities'].values[length+i])\n",
    "            X_cat1.append(tf.keras.utils.to_categorical(\n",
    "                mapping_region[df['Country_Region'].values[i]],len(mapping_region)))\n",
    "            X_cat2.append(tf.keras.utils.to_categorical(\n",
    "                mapping_province[df['Province_State'].values[i]],len(mapping_province)))\n",
    "    return np.array(X),\\\n",
    "np.concatenate((np.array(y1).reshape(-1,1),np.array(y2).reshape(-1,1)),axis=1),\\\n",
    "np.concatenate((np.array(X_cat1), np.array(X_cat2)),axis=1)\n",
    "        "
   ]
  },
  {
   "cell_type": "code",
   "execution_count": 33,
   "metadata": {},
   "outputs": [],
   "source": [
    "X_lstm,y,X_dense = slice_data(df,4)"
   ]
  },
  {
   "cell_type": "code",
   "execution_count": 34,
   "metadata": {},
   "outputs": [
    {
     "data": {
      "text/plain": [
       "(22640, 22640, 22640)"
      ]
     },
     "execution_count": 34,
     "metadata": {},
     "output_type": "execute_result"
    }
   ],
   "source": [
    "len(X_lstm), len(y),len(X_dense)"
   ]
  },
  {
   "cell_type": "code",
   "execution_count": 35,
   "metadata": {},
   "outputs": [
    {
     "data": {
      "text/plain": [
       "array([[[0., 0.],\n",
       "        [0., 0.],\n",
       "        [0., 0.],\n",
       "        [0., 0.]],\n",
       "\n",
       "       [[0., 0.],\n",
       "        [0., 0.],\n",
       "        [0., 0.],\n",
       "        [0., 0.]],\n",
       "\n",
       "       [[0., 0.],\n",
       "        [0., 0.],\n",
       "        [0., 0.],\n",
       "        [0., 0.]],\n",
       "\n",
       "       ...,\n",
       "\n",
       "       [[7., 1.],\n",
       "        [7., 1.],\n",
       "        [8., 1.],\n",
       "        [8., 1.]],\n",
       "\n",
       "       [[7., 1.],\n",
       "        [8., 1.],\n",
       "        [8., 1.],\n",
       "        [9., 1.]],\n",
       "\n",
       "       [[8., 1.],\n",
       "        [8., 1.],\n",
       "        [9., 1.],\n",
       "        [9., 1.]]])"
      ]
     },
     "execution_count": 35,
     "metadata": {},
     "output_type": "execute_result"
    }
   ],
   "source": [
    "X_lstm"
   ]
  },
  {
   "cell_type": "code",
   "execution_count": 36,
   "metadata": {},
   "outputs": [],
   "source": [
    "X_dense = X_dense.reshape(X_dense.shape[0],1,X_dense.shape[1])"
   ]
  },
  {
   "cell_type": "code",
   "execution_count": 37,
   "metadata": {},
   "outputs": [
    {
     "data": {
      "text/plain": [
       "(22640, 4, 2)"
      ]
     },
     "execution_count": 37,
     "metadata": {},
     "output_type": "execute_result"
    }
   ],
   "source": [
    "X_lstm.shape"
   ]
  },
  {
   "cell_type": "code",
   "execution_count": 38,
   "metadata": {},
   "outputs": [
    {
     "data": {
      "text/plain": [
       "array([[0., 0.],\n",
       "       [0., 0.],\n",
       "       [0., 0.],\n",
       "       ...,\n",
       "       [9., 1.],\n",
       "       [9., 1.],\n",
       "       [9., 1.]])"
      ]
     },
     "execution_count": 38,
     "metadata": {},
     "output_type": "execute_result"
    }
   ],
   "source": [
    "y"
   ]
  },
  {
   "cell_type": "code",
   "execution_count": 39,
   "metadata": {},
   "outputs": [
    {
     "data": {
      "text/plain": [
       "(22640, 2)"
      ]
     },
     "execution_count": 39,
     "metadata": {},
     "output_type": "execute_result"
    }
   ],
   "source": [
    "y.shape"
   ]
  },
  {
   "cell_type": "code",
   "execution_count": 40,
   "metadata": {},
   "outputs": [
    {
     "data": {
      "text/plain": [
       "(22640, 1, 311)"
      ]
     },
     "execution_count": 40,
     "metadata": {},
     "output_type": "execute_result"
    }
   ],
   "source": [
    "X_dense.shape"
   ]
  },
  {
   "cell_type": "code",
   "execution_count": 41,
   "metadata": {},
   "outputs": [],
   "source": [
    "train_size = int(len(X_dense)*0.9)"
   ]
  },
  {
   "cell_type": "code",
   "execution_count": 42,
   "metadata": {},
   "outputs": [
    {
     "data": {
      "text/plain": [
       "20376"
      ]
     },
     "execution_count": 42,
     "metadata": {},
     "output_type": "execute_result"
    }
   ],
   "source": [
    "train_size"
   ]
  },
  {
   "cell_type": "code",
   "execution_count": 43,
   "metadata": {},
   "outputs": [],
   "source": [
    "X_dense_train, X_lstm_train, y_train = X_dense[:train_size],X_lstm[:train_size], y[:train_size]"
   ]
  },
  {
   "cell_type": "code",
   "execution_count": 44,
   "metadata": {},
   "outputs": [],
   "source": [
    "X_dense_test, X_lstm_test, y_test = X_dense[train_size:],X_lstm[train_size:], y[train_size:]"
   ]
  },
  {
   "cell_type": "markdown",
   "metadata": {},
   "source": [
    "# Building a model"
   ]
  },
  {
   "cell_type": "code",
   "execution_count": 56,
   "metadata": {},
   "outputs": [],
   "source": [
    "def create_model(seed=5):\n",
    "    tf.keras.backend.clear_session()\n",
    "    tf.compat.v1.set_random_seed(seed)\n",
    "#first input \n",
    "    lstm_input = tf.keras.layers.Input((X_lstm.shape[1],X_lstm.shape[2]))\n",
    "    lstm_block1 = tf.keras.layers.LSTM(256,return_sequences=True)(lstm_input)\n",
    "    lstm_block2 = tf.keras.layers.LSTM(128)(lstm_block1)\n",
    "    reshape_layer = tf.keras.layers.Reshape((1,128))(lstm_block2)\n",
    "\n",
    "#second input\n",
    "    dense_input = tf.keras.layers.Input((X_dense.shape[1],X_dense.shape[2]))\n",
    "    dense_layer1 = tf.keras.layers.Dense(1024,activation='relu')(dense_input)\n",
    "    dropout_layer1 = tf.keras.layers.Dropout(0.3)(dense_layer1)\n",
    "    dense_layer2 = tf.keras.layers.Dense(128,activation='relu')(dropout_layer1)\n",
    "\n",
    "#embedd everything together\n",
    "    concat_layer = tf.keras.layers.add([reshape_layer,dense_layer2])\n",
    "    flatten_layer = tf.keras.layers.Flatten()(concat_layer)\n",
    "    final_dense = tf.keras.layers.Dense(1024,activation='relu')(flatten_layer)\n",
    "    output_layer = tf.keras.layers.Dense(2,activation='relu')(flatten_layer)\n",
    "\n",
    "#Model\n",
    "    model = tf.keras.Model(inputs=[lstm_input,dense_input],outputs=output_layer)\n",
    "    model.compile(optimizer='Adam',loss=tf.keras.losses.MeanSquaredLogarithmicError())\n",
    "    return model"
   ]
  },
  {
   "cell_type": "code",
   "execution_count": null,
   "metadata": {},
   "outputs": [],
   "source": [
    "model = create_model()"
   ]
  },
  {
   "cell_type": "code",
   "execution_count": 53,
   "metadata": {},
   "outputs": [],
   "source": [
    "callbacks = [tf.keras.callbacks.ReduceLROnPlateau(monitor='val_loss', patience=15, verbose=1, factor=0.6),\n",
    "             tf.keras.callbacks.EarlyStopping(monitor='val_loss', patience=20)]"
   ]
  },
  {
   "cell_type": "code",
   "execution_count": 54,
   "metadata": {},
   "outputs": [
    {
     "name": "stdout",
     "output_type": "stream",
     "text": [
      "Model: \"model\"\n",
      "__________________________________________________________________________________________________\n",
      "Layer (type)                    Output Shape         Param #     Connected to                     \n",
      "==================================================================================================\n",
      "input_1 (InputLayer)            [(None, 4, 2)]       0                                            \n",
      "__________________________________________________________________________________________________\n",
      "input_2 (InputLayer)            [(None, 1, 311)]     0                                            \n",
      "__________________________________________________________________________________________________\n",
      "unified_lstm (UnifiedLSTM)      (None, 4, 256)       265216      input_1[0][0]                    \n",
      "__________________________________________________________________________________________________\n",
      "dense (Dense)                   (None, 1, 1024)      319488      input_2[0][0]                    \n",
      "__________________________________________________________________________________________________\n",
      "unified_lstm_1 (UnifiedLSTM)    (None, 128)          197120      unified_lstm[0][0]               \n",
      "__________________________________________________________________________________________________\n",
      "dropout (Dropout)               (None, 1, 1024)      0           dense[0][0]                      \n",
      "__________________________________________________________________________________________________\n",
      "reshape (Reshape)               (None, 1, 128)       0           unified_lstm_1[0][0]             \n",
      "__________________________________________________________________________________________________\n",
      "dense_1 (Dense)                 (None, 1, 128)       131200      dropout[0][0]                    \n",
      "__________________________________________________________________________________________________\n",
      "add (Add)                       (None, 1, 128)       0           reshape[0][0]                    \n",
      "                                                                 dense_1[0][0]                    \n",
      "__________________________________________________________________________________________________\n",
      "flatten (Flatten)               (None, 128)          0           add[0][0]                        \n",
      "__________________________________________________________________________________________________\n",
      "dense_3 (Dense)                 (None, 2)            258         flatten[0][0]                    \n",
      "==================================================================================================\n",
      "Total params: 913,282\n",
      "Trainable params: 913,282\n",
      "Non-trainable params: 0\n",
      "__________________________________________________________________________________________________\n"
     ]
    }
   ],
   "source": [
    "model.summary()"
   ]
  },
  {
   "cell_type": "code",
   "execution_count": 55,
   "metadata": {},
   "outputs": [
    {
     "name": "stdout",
     "output_type": "stream",
     "text": [
      "Train on 20376 samples, validate on 2264 samples\n",
      "Epoch 1/250\n",
      "20376/20376 [==============================] - 4s 185us/sample - loss: 1.3555 - val_loss: 0.6763\n",
      "Epoch 2/250\n",
      "20376/20376 [==============================] - 3s 165us/sample - loss: 0.9117 - val_loss: 0.6283\n",
      "Epoch 3/250\n",
      "20376/20376 [==============================] - 3s 148us/sample - loss: 0.8222 - val_loss: 0.5835\n",
      "Epoch 4/250\n",
      "20376/20376 [==============================] - 3s 147us/sample - loss: 0.7717 - val_loss: 0.5667\n",
      "Epoch 5/250\n",
      "20376/20376 [==============================] - 3s 154us/sample - loss: 0.7358 - val_loss: 0.5634\n",
      "Epoch 6/250\n",
      "20376/20376 [==============================] - 3s 148us/sample - loss: 0.7098 - val_loss: 0.5563\n",
      "Epoch 7/250\n",
      "20376/20376 [==============================] - 3s 158us/sample - loss: 0.6845 - val_loss: 0.5473\n",
      "Epoch 8/250\n",
      "20376/20376 [==============================] - 3s 161us/sample - loss: 0.6676 - val_loss: 0.5586\n",
      "Epoch 9/250\n",
      "20376/20376 [==============================] - 3s 155us/sample - loss: 0.6558 - val_loss: 0.5250\n",
      "Epoch 10/250\n",
      "20376/20376 [==============================] - 3s 163us/sample - loss: 0.6383 - val_loss: 0.5399\n",
      "Epoch 11/250\n",
      "20376/20376 [==============================] - 3s 156us/sample - loss: 0.6242 - val_loss: 0.5352\n",
      "Epoch 12/250\n",
      "20376/20376 [==============================] - 3s 165us/sample - loss: 0.6166 - val_loss: 0.5746\n",
      "Epoch 13/250\n",
      "20376/20376 [==============================] - 3s 167us/sample - loss: 0.6051 - val_loss: 0.4894\n",
      "Epoch 14/250\n",
      "20376/20376 [==============================] - 3s 166us/sample - loss: 0.5935 - val_loss: 0.5344\n",
      "Epoch 15/250\n",
      "20376/20376 [==============================] - 3s 151us/sample - loss: 0.5862 - val_loss: 0.5274\n",
      "Epoch 16/250\n",
      "20376/20376 [==============================] - 3s 148us/sample - loss: 0.5707 - val_loss: 0.5178\n",
      "Epoch 17/250\n",
      "20376/20376 [==============================] - 3s 149us/sample - loss: 0.5632 - val_loss: 0.5767\n",
      "Epoch 18/250\n",
      "20376/20376 [==============================] - 3s 146us/sample - loss: 0.5527 - val_loss: 0.4948\n",
      "Epoch 19/250\n",
      "20376/20376 [==============================] - 3s 169us/sample - loss: 0.5452 - val_loss: 0.5071\n",
      "Epoch 20/250\n",
      "20376/20376 [==============================] - 3s 149us/sample - loss: 0.5339 - val_loss: 0.5063\n",
      "Epoch 21/250\n",
      "20376/20376 [==============================] - 3s 154us/sample - loss: 0.5262 - val_loss: 0.4720\n",
      "Epoch 22/250\n",
      "20376/20376 [==============================] - 3s 162us/sample - loss: 0.5138 - val_loss: 0.4356\n",
      "Epoch 23/250\n",
      "20376/20376 [==============================] - 4s 172us/sample - loss: 0.5022 - val_loss: 0.4439\n",
      "Epoch 24/250\n",
      "20376/20376 [==============================] - 3s 167us/sample - loss: 0.4993 - val_loss: 0.4289\n",
      "Epoch 25/250\n",
      "20376/20376 [==============================] - 4s 174us/sample - loss: 0.4892 - val_loss: 0.4163\n",
      "Epoch 26/250\n",
      "20376/20376 [==============================] - 3s 169us/sample - loss: 0.4818 - val_loss: 0.4185\n",
      "Epoch 27/250\n",
      "20376/20376 [==============================] - 4s 175us/sample - loss: 0.4783 - val_loss: 0.4145\n",
      "Epoch 28/250\n",
      "20376/20376 [==============================] - 3s 169us/sample - loss: 0.4748 - val_loss: 0.4215\n",
      "Epoch 29/250\n",
      "20376/20376 [==============================] - 3s 159us/sample - loss: 0.4710 - val_loss: 0.3983\n",
      "Epoch 30/250\n",
      "20376/20376 [==============================] - 4s 174us/sample - loss: 0.4661 - val_loss: 0.4053\n",
      "Epoch 31/250\n",
      "20376/20376 [==============================] - 3s 172us/sample - loss: 0.4614 - val_loss: 0.3979\n",
      "Epoch 32/250\n",
      "20376/20376 [==============================] - 3s 171us/sample - loss: 0.4603 - val_loss: 0.3880\n",
      "Epoch 33/250\n",
      "20376/20376 [==============================] - 3s 171us/sample - loss: 0.4565 - val_loss: 0.3900\n",
      "Epoch 34/250\n",
      "20376/20376 [==============================] - 3s 166us/sample - loss: 0.4518 - val_loss: 0.3735\n",
      "Epoch 35/250\n",
      "20376/20376 [==============================] - 4s 178us/sample - loss: 0.4489 - val_loss: 0.3826\n",
      "Epoch 36/250\n",
      "20376/20376 [==============================] - 4s 187us/sample - loss: 0.4452 - val_loss: 0.3792\n",
      "Epoch 37/250\n",
      "20376/20376 [==============================] - 3s 169us/sample - loss: 0.4480 - val_loss: 0.3732\n",
      "Epoch 38/250\n",
      "20376/20376 [==============================] - 3s 158us/sample - loss: 0.4433 - val_loss: 0.3787\n",
      "Epoch 39/250\n",
      "20376/20376 [==============================] - 3s 161us/sample - loss: 0.4392 - val_loss: 0.3716\n",
      "Epoch 40/250\n",
      "20376/20376 [==============================] - 3s 161us/sample - loss: 0.4382 - val_loss: 0.3726\n",
      "Epoch 41/250\n",
      "20376/20376 [==============================] - 3s 164us/sample - loss: 0.4366 - val_loss: 0.3753\n",
      "Epoch 42/250\n",
      "20376/20376 [==============================] - 4s 174us/sample - loss: 0.4427 - val_loss: 0.3740\n",
      "Epoch 43/250\n",
      "20376/20376 [==============================] - 4s 175us/sample - loss: 0.4363 - val_loss: 0.3623\n",
      "Epoch 44/250\n",
      "20376/20376 [==============================] - 3s 167us/sample - loss: 0.4331 - val_loss: 0.3682\n",
      "Epoch 45/250\n",
      "20376/20376 [==============================] - 3s 157us/sample - loss: 0.4308 - val_loss: 0.3825\n",
      "Epoch 46/250\n",
      "20376/20376 [==============================] - 4s 183us/sample - loss: 0.4282 - val_loss: 0.3721\n",
      "Epoch 47/250\n",
      "20376/20376 [==============================] - 3s 167us/sample - loss: 0.4311 - val_loss: 0.3642\n",
      "Epoch 48/250\n",
      "20376/20376 [==============================] - 3s 167us/sample - loss: 0.4307 - val_loss: 0.3584\n",
      "Epoch 49/250\n",
      "20376/20376 [==============================] - 3s 164us/sample - loss: 0.4244 - val_loss: 0.3686\n",
      "Epoch 50/250\n",
      "20376/20376 [==============================] - 3s 162us/sample - loss: 0.4241 - val_loss: 0.3566\n",
      "Epoch 51/250\n",
      "20376/20376 [==============================] - 3s 171us/sample - loss: 0.4200 - val_loss: 0.3614\n",
      "Epoch 52/250\n",
      "20376/20376 [==============================] - 3s 161us/sample - loss: 0.4203 - val_loss: 0.3591\n",
      "Epoch 53/250\n",
      "20376/20376 [==============================] - 3s 159us/sample - loss: 0.4181 - val_loss: 0.3586\n",
      "Epoch 54/250\n",
      "20376/20376 [==============================] - 3s 171us/sample - loss: 0.4178 - val_loss: 0.3647\n",
      "Epoch 55/250\n",
      "20376/20376 [==============================] - 4s 174us/sample - loss: 0.4169 - val_loss: 0.3605\n",
      "Epoch 56/250\n",
      "20376/20376 [==============================] - 3s 168us/sample - loss: 0.4181 - val_loss: 0.3523\n",
      "Epoch 57/250\n",
      "20376/20376 [==============================] - 3s 162us/sample - loss: 0.4161 - val_loss: 0.3527\n",
      "Epoch 58/250\n",
      "20376/20376 [==============================] - 3s 161us/sample - loss: 0.4149 - val_loss: 0.3570\n",
      "Epoch 59/250\n",
      "20376/20376 [==============================] - 4s 175us/sample - loss: 0.4235 - val_loss: 0.3649\n",
      "Epoch 60/250\n",
      "20376/20376 [==============================] - 4s 175us/sample - loss: 0.4109 - val_loss: 0.3562\n",
      "Epoch 61/250\n",
      "20376/20376 [==============================] - 4s 172us/sample - loss: 0.4139 - val_loss: 0.3500\n",
      "Epoch 62/250\n",
      "20376/20376 [==============================] - 3s 170us/sample - loss: 0.4119 - val_loss: 0.3525\n",
      "Epoch 63/250\n",
      "20376/20376 [==============================] - 3s 162us/sample - loss: 0.4126 - val_loss: 0.3518\n",
      "Epoch 64/250\n",
      "20376/20376 [==============================] - 3s 155us/sample - loss: 0.4087 - val_loss: 0.3454\n",
      "Epoch 65/250\n",
      "20376/20376 [==============================] - 3s 154us/sample - loss: 0.4092 - val_loss: 0.3567\n",
      "Epoch 66/250\n",
      "20376/20376 [==============================] - 3s 170us/sample - loss: 0.4053 - val_loss: 0.3441\n",
      "Epoch 67/250\n",
      "20376/20376 [==============================] - 4s 176us/sample - loss: 0.4058 - val_loss: 0.3515\n",
      "Epoch 68/250\n",
      "20376/20376 [==============================] - 4s 177us/sample - loss: 0.4056 - val_loss: 0.3375\n",
      "Epoch 69/250\n",
      "20376/20376 [==============================] - 3s 170us/sample - loss: 0.4078 - val_loss: 0.3453\n",
      "Epoch 70/250\n",
      "20376/20376 [==============================] - 3s 159us/sample - loss: 0.4045 - val_loss: 0.3473\n",
      "Epoch 71/250\n",
      "20376/20376 [==============================] - 3s 168us/sample - loss: 0.4049 - val_loss: 0.3416\n",
      "Epoch 72/250\n",
      "20376/20376 [==============================] - 3s 171us/sample - loss: 0.4028 - val_loss: 0.3440\n",
      "Epoch 73/250\n",
      "20376/20376 [==============================] - 3s 160us/sample - loss: 0.4047 - val_loss: 0.3437\n",
      "Epoch 74/250\n",
      "20376/20376 [==============================] - 3s 170us/sample - loss: 0.4027 - val_loss: 0.3546\n",
      "Epoch 75/250\n"
     ]
    },
    {
     "name": "stdout",
     "output_type": "stream",
     "text": [
      "20376/20376 [==============================] - 4s 173us/sample - loss: 0.4013 - val_loss: 0.3505\n",
      "Epoch 76/250\n",
      "20376/20376 [==============================] - 3s 158us/sample - loss: 0.3986 - val_loss: 0.3525\n",
      "Epoch 77/250\n",
      "20376/20376 [==============================] - 3s 158us/sample - loss: 0.4001 - val_loss: 0.3517\n",
      "Epoch 78/250\n",
      "20376/20376 [==============================] - 3s 156us/sample - loss: 0.4019 - val_loss: 0.3479\n",
      "Epoch 79/250\n",
      "20376/20376 [==============================] - 3s 171us/sample - loss: 0.3990 - val_loss: 0.3534\n",
      "Epoch 80/250\n",
      "20376/20376 [==============================] - 3s 160us/sample - loss: 0.3994 - val_loss: 0.3460\n",
      "Epoch 81/250\n",
      "20376/20376 [==============================] - 4s 173us/sample - loss: 0.4014 - val_loss: 0.3480\n",
      "Epoch 82/250\n",
      "20376/20376 [==============================] - 3s 159us/sample - loss: 0.3990 - val_loss: 0.3452\n",
      "Epoch 83/250\n",
      "20352/20376 [============================>.] - ETA: 0s - loss: 0.3959\n",
      "Epoch 00083: ReduceLROnPlateau reducing learning rate to 0.0006000000284984708.\n",
      "20376/20376 [==============================] - 3s 168us/sample - loss: 0.3955 - val_loss: 0.3510\n",
      "Epoch 84/250\n",
      "20376/20376 [==============================] - 3s 168us/sample - loss: 0.3921 - val_loss: 0.3470\n",
      "Epoch 85/250\n",
      "20376/20376 [==============================] - 4s 176us/sample - loss: 0.3923 - val_loss: 0.3559\n",
      "Epoch 86/250\n",
      "20376/20376 [==============================] - 3s 163us/sample - loss: 0.3901 - val_loss: 0.3519\n",
      "Epoch 87/250\n",
      "20376/20376 [==============================] - 4s 181us/sample - loss: 0.3917 - val_loss: 0.3426\n",
      "Epoch 88/250\n",
      "20376/20376 [==============================] - 4s 189us/sample - loss: 0.3890 - val_loss: 0.3535\n"
     ]
    }
   ],
   "source": [
    "hist = model.fit(x=[X_lstm_train,X_dense_train],y=y_train, validation_data=[[X_lstm_test,X_dense_test],y_test]\n",
    "          ,epochs=250,callbacks=callbacks)"
   ]
  },
  {
   "cell_type": "markdown",
   "metadata": {},
   "source": [
    "# Train final model"
   ]
  },
  {
   "cell_type": "code",
   "execution_count": 57,
   "metadata": {},
   "outputs": [
    {
     "name": "stdout",
     "output_type": "stream",
     "text": [
      "WARNING:tensorflow:<tensorflow.python.keras.layers.recurrent.UnifiedLSTM object at 0x7f27f422c190>: Note that this layer is not optimized for performance. Please use tf.keras.layers.CuDNNLSTM for better performance on GPU.\n",
      "WARNING:tensorflow:<tensorflow.python.keras.layers.recurrent.UnifiedLSTM object at 0x7f27f47aeb10>: Note that this layer is not optimized for performance. Please use tf.keras.layers.CuDNNLSTM for better performance on GPU.\n"
     ]
    }
   ],
   "source": [
    "model = create_model()"
   ]
  },
  {
   "cell_type": "code",
   "execution_count": 58,
   "metadata": {},
   "outputs": [],
   "source": [
    "callbacks = [tf.keras.callbacks.ReduceLROnPlateau(monitor='loss', patience=15, verbose=1, factor=0.6),\n",
    "             tf.keras.callbacks.EarlyStopping(monitor='loss', patience=20)]"
   ]
  },
  {
   "cell_type": "code",
   "execution_count": 59,
   "metadata": {},
   "outputs": [
    {
     "name": "stdout",
     "output_type": "stream",
     "text": [
      "Epoch 1/250\n",
      "22640/22640 [==============================] - 4s 161us/sample - loss: 1.2521\n",
      "Epoch 2/250\n",
      "22640/22640 [==============================] - 3s 143us/sample - loss: 0.8595\n",
      "Epoch 3/250\n",
      "22640/22640 [==============================] - 3s 145us/sample - loss: 0.7765\n",
      "Epoch 4/250\n",
      "22640/22640 [==============================] - 3s 147us/sample - loss: 0.7371\n",
      "Epoch 5/250\n",
      "22640/22640 [==============================] - 3s 147us/sample - loss: 0.6955\n",
      "Epoch 6/250\n",
      "22640/22640 [==============================] - 3s 144us/sample - loss: 0.6776\n",
      "Epoch 7/250\n",
      "22640/22640 [==============================] - 3s 143us/sample - loss: 0.6560\n",
      "Epoch 8/250\n",
      "22640/22640 [==============================] - 3s 143us/sample - loss: 0.6412\n",
      "Epoch 9/250\n",
      "22640/22640 [==============================] - 3s 147us/sample - loss: 0.6200\n",
      "Epoch 10/250\n",
      "22640/22640 [==============================] - 4s 155us/sample - loss: 0.6111\n",
      "Epoch 11/250\n",
      "22640/22640 [==============================] - 4s 162us/sample - loss: 0.5907\n",
      "Epoch 12/250\n",
      "22640/22640 [==============================] - 4s 163us/sample - loss: 0.5861\n",
      "Epoch 13/250\n",
      "22640/22640 [==============================] - 3s 147us/sample - loss: 0.5783\n",
      "Epoch 14/250\n",
      "22640/22640 [==============================] - 3s 152us/sample - loss: 0.5669\n",
      "Epoch 15/250\n",
      "22640/22640 [==============================] - 4s 159us/sample - loss: 0.5591\n",
      "Epoch 16/250\n",
      "22640/22640 [==============================] - 4s 165us/sample - loss: 0.5427\n",
      "Epoch 17/250\n",
      "22640/22640 [==============================] - 4s 158us/sample - loss: 0.5392\n",
      "Epoch 18/250\n",
      "22640/22640 [==============================] - 4s 165us/sample - loss: 0.5400\n",
      "Epoch 19/250\n",
      "22640/22640 [==============================] - 3s 153us/sample - loss: 0.5231\n",
      "Epoch 20/250\n",
      "22640/22640 [==============================] - 4s 156us/sample - loss: 0.5131\n",
      "Epoch 21/250\n",
      "22640/22640 [==============================] - 4s 173us/sample - loss: 0.5035\n",
      "Epoch 22/250\n",
      "22640/22640 [==============================] - 4s 155us/sample - loss: 0.4880\n",
      "Epoch 23/250\n",
      "22640/22640 [==============================] - 4s 157us/sample - loss: 0.4843\n",
      "Epoch 24/250\n",
      "22640/22640 [==============================] - 4s 160us/sample - loss: 0.4876\n",
      "Epoch 25/250\n",
      "22640/22640 [==============================] - 4s 174us/sample - loss: 0.4730\n",
      "Epoch 26/250\n",
      "22640/22640 [==============================] - 4s 178us/sample - loss: 0.4655\n",
      "Epoch 27/250\n",
      "22640/22640 [==============================] - 3s 154us/sample - loss: 0.4577\n",
      "Epoch 28/250\n",
      "22640/22640 [==============================] - 3s 152us/sample - loss: 0.4554\n",
      "Epoch 29/250\n",
      "22640/22640 [==============================] - 4s 168us/sample - loss: 0.4519\n",
      "Epoch 30/250\n",
      "22640/22640 [==============================] - 4s 159us/sample - loss: 0.4508\n",
      "Epoch 31/250\n",
      "22640/22640 [==============================] - 4s 169us/sample - loss: 0.4498\n",
      "Epoch 32/250\n",
      "22640/22640 [==============================] - 4s 179us/sample - loss: 0.4427\n",
      "Epoch 33/250\n",
      "22640/22640 [==============================] - 4s 161us/sample - loss: 0.4425\n",
      "Epoch 34/250\n",
      "22640/22640 [==============================] - 4s 155us/sample - loss: 0.4421\n",
      "Epoch 35/250\n",
      "22640/22640 [==============================] - 4s 158us/sample - loss: 0.4354\n",
      "Epoch 36/250\n",
      "22640/22640 [==============================] - 4s 181us/sample - loss: 0.4353\n",
      "Epoch 37/250\n",
      "22640/22640 [==============================] - 4s 170us/sample - loss: 0.4366\n",
      "Epoch 38/250\n",
      "22640/22640 [==============================] - 4s 159us/sample - loss: 0.4345\n",
      "Epoch 39/250\n",
      "22640/22640 [==============================] - 4s 170us/sample - loss: 0.4301\n",
      "Epoch 40/250\n",
      "22640/22640 [==============================] - 4s 161us/sample - loss: 0.4276\n",
      "Epoch 41/250\n",
      "22640/22640 [==============================] - 4s 170us/sample - loss: 0.4253\n",
      "Epoch 42/250\n",
      "22640/22640 [==============================] - 4s 163us/sample - loss: 0.4288\n",
      "Epoch 43/250\n",
      "22640/22640 [==============================] - 4s 174us/sample - loss: 0.4233\n",
      "Epoch 44/250\n",
      "22640/22640 [==============================] - 4s 157us/sample - loss: 0.4237\n",
      "Epoch 45/250\n",
      "22640/22640 [==============================] - 4s 165us/sample - loss: 0.4201\n",
      "Epoch 46/250\n",
      "22640/22640 [==============================] - 4s 158us/sample - loss: 0.4253\n",
      "Epoch 47/250\n",
      "22640/22640 [==============================] - 4s 156us/sample - loss: 0.4229\n",
      "Epoch 48/250\n",
      "22640/22640 [==============================] - 4s 165us/sample - loss: 0.4187\n",
      "Epoch 49/250\n",
      "22640/22640 [==============================] - 4s 155us/sample - loss: 0.4197\n",
      "Epoch 50/250\n",
      "22640/22640 [==============================] - 3s 152us/sample - loss: 0.4161\n",
      "Epoch 51/250\n",
      "22640/22640 [==============================] - 3s 152us/sample - loss: 0.4145\n",
      "Epoch 52/250\n",
      "22640/22640 [==============================] - 4s 170us/sample - loss: 0.4131\n",
      "Epoch 53/250\n",
      "22640/22640 [==============================] - 4s 168us/sample - loss: 0.4086\n",
      "Epoch 54/250\n",
      "22640/22640 [==============================] - 4s 174us/sample - loss: 0.4102\n",
      "Epoch 55/250\n",
      "22640/22640 [==============================] - 4s 170us/sample - loss: 0.4089\n",
      "Epoch 56/250\n",
      "22640/22640 [==============================] - 4s 157us/sample - loss: 0.4081\n",
      "Epoch 57/250\n",
      "22640/22640 [==============================] - 4s 165us/sample - loss: 0.4069\n",
      "Epoch 58/250\n",
      "22640/22640 [==============================] - 4s 170us/sample - loss: 0.4072\n",
      "Epoch 59/250\n",
      "22640/22640 [==============================] - 4s 158us/sample - loss: 0.4067\n",
      "Epoch 60/250\n",
      "22640/22640 [==============================] - 4s 170us/sample - loss: 0.4035\n",
      "Epoch 61/250\n",
      "22640/22640 [==============================] - 4s 172us/sample - loss: 0.4024\n",
      "Epoch 62/250\n",
      "22640/22640 [==============================] - 4s 159us/sample - loss: 0.4021\n",
      "Epoch 63/250\n",
      "22640/22640 [==============================] - 3s 153us/sample - loss: 0.4021\n",
      "Epoch 64/250\n",
      "22640/22640 [==============================] - 3s 141us/sample - loss: 0.4028\n",
      "Epoch 65/250\n",
      "22640/22640 [==============================] - 3s 136us/sample - loss: 0.4001\n",
      "Epoch 66/250\n",
      "22640/22640 [==============================] - 3s 142us/sample - loss: 0.4015\n",
      "Epoch 67/250\n",
      "22640/22640 [==============================] - 3s 138us/sample - loss: 0.4015\n",
      "Epoch 68/250\n",
      "22640/22640 [==============================] - 3s 133us/sample - loss: 0.4026\n",
      "Epoch 69/250\n",
      "22640/22640 [==============================] - 3s 134us/sample - loss: 0.4001\n",
      "Epoch 70/250\n",
      "22640/22640 [==============================] - 3s 140us/sample - loss: 0.3972\n",
      "Epoch 71/250\n",
      "22640/22640 [==============================] - 3s 138us/sample - loss: 0.3934\n",
      "Epoch 72/250\n",
      "22640/22640 [==============================] - 3s 141us/sample - loss: 0.3957\n",
      "Epoch 73/250\n",
      "22640/22640 [==============================] - 3s 146us/sample - loss: 0.3956\n",
      "Epoch 74/250\n",
      "22640/22640 [==============================] - 3s 147us/sample - loss: 0.3941\n",
      "Epoch 75/250\n",
      "22640/22640 [==============================] - 3s 141us/sample - loss: 0.3937\n",
      "Epoch 76/250\n",
      "22640/22640 [==============================] - 4s 160us/sample - loss: 0.3940\n",
      "Epoch 77/250\n",
      "22640/22640 [==============================] - 4s 155us/sample - loss: 0.3931\n",
      "Epoch 78/250\n",
      "22640/22640 [==============================] - 4s 163us/sample - loss: 0.3904\n",
      "Epoch 79/250\n",
      "22640/22640 [==============================] - 4s 159us/sample - loss: 0.3890\n",
      "Epoch 80/250\n",
      "22640/22640 [==============================] - 4s 168us/sample - loss: 0.3913\n",
      "Epoch 81/250\n",
      "22640/22640 [==============================] - 4s 160us/sample - loss: 0.3892\n",
      "Epoch 82/250\n",
      "22640/22640 [==============================] - 4s 170us/sample - loss: 0.3954\n",
      "Epoch 83/250\n",
      "22640/22640 [==============================] - 3s 150us/sample - loss: 0.3983\n",
      "Epoch 84/250\n",
      "22640/22640 [==============================] - 4s 156us/sample - loss: 0.3870\n",
      "Epoch 85/250\n",
      "22640/22640 [==============================] - 4s 174us/sample - loss: 0.3888\n",
      "Epoch 86/250\n",
      "22640/22640 [==============================] - 4s 173us/sample - loss: 0.3931\n",
      "Epoch 87/250\n",
      "22640/22640 [==============================] - 4s 158us/sample - loss: 0.3965\n",
      "Epoch 88/250\n",
      "22640/22640 [==============================] - 4s 166us/sample - loss: 0.3903\n",
      "Epoch 89/250\n",
      "22640/22640 [==============================] - 4s 174us/sample - loss: 0.3859\n",
      "Epoch 90/250\n",
      "22640/22640 [==============================] - 4s 165us/sample - loss: 0.3867\n",
      "Epoch 91/250\n"
     ]
    },
    {
     "name": "stdout",
     "output_type": "stream",
     "text": [
      "22640/22640 [==============================] - 4s 155us/sample - loss: 0.3869\n",
      "Epoch 92/250\n",
      "22640/22640 [==============================] - 4s 174us/sample - loss: 0.3860\n",
      "Epoch 93/250\n",
      "22640/22640 [==============================] - 4s 156us/sample - loss: 0.3877\n",
      "Epoch 94/250\n",
      "22640/22640 [==============================] - 3s 146us/sample - loss: 0.3881\n",
      "Epoch 95/250\n",
      "22640/22640 [==============================] - 3s 149us/sample - loss: 0.3903\n",
      "Epoch 96/250\n",
      "22640/22640 [==============================] - 4s 166us/sample - loss: 0.3863\n",
      "Epoch 97/250\n",
      "22640/22640 [==============================] - 4s 163us/sample - loss: 0.3880\n",
      "Epoch 98/250\n",
      "22640/22640 [==============================] - 4s 162us/sample - loss: 0.3875\n",
      "Epoch 99/250\n",
      "22640/22640 [==============================] - 4s 177us/sample - loss: 0.3858\n",
      "Epoch 100/250\n",
      "22640/22640 [==============================] - 4s 171us/sample - loss: 0.3852\n",
      "Epoch 101/250\n",
      "22640/22640 [==============================] - 4s 169us/sample - loss: 0.3841\n",
      "Epoch 102/250\n",
      "22640/22640 [==============================] - 4s 170us/sample - loss: 0.3866\n",
      "Epoch 103/250\n",
      "22640/22640 [==============================] - 4s 161us/sample - loss: 0.3864\n",
      "Epoch 104/250\n",
      "22640/22640 [==============================] - 4s 187us/sample - loss: 0.3838\n",
      "Epoch 105/250\n",
      "22640/22640 [==============================] - 4s 166us/sample - loss: 0.3816\n",
      "Epoch 106/250\n",
      "22640/22640 [==============================] - 4s 173us/sample - loss: 0.3824\n",
      "Epoch 107/250\n",
      "22640/22640 [==============================] - 4s 171us/sample - loss: 0.3812\n",
      "Epoch 108/250\n",
      "22640/22640 [==============================] - 4s 166us/sample - loss: 0.3817\n",
      "Epoch 109/250\n",
      "22640/22640 [==============================] - 4s 173us/sample - loss: 0.3781\n",
      "Epoch 110/250\n",
      "22640/22640 [==============================] - 3s 144us/sample - loss: 0.3796\n",
      "Epoch 111/250\n",
      "22640/22640 [==============================] - 4s 168us/sample - loss: 0.3831\n",
      "Epoch 112/250\n",
      "22640/22640 [==============================] - 3s 146us/sample - loss: 0.3832\n",
      "Epoch 113/250\n",
      "22640/22640 [==============================] - 4s 165us/sample - loss: 0.3820\n",
      "Epoch 114/250\n",
      "22640/22640 [==============================] - 4s 167us/sample - loss: 0.3829\n",
      "Epoch 115/250\n",
      "22640/22640 [==============================] - 4s 161us/sample - loss: 0.3806\n",
      "Epoch 116/250\n",
      "22640/22640 [==============================] - 4s 167us/sample - loss: 0.3786\n",
      "Epoch 117/250\n",
      "22640/22640 [==============================] - 4s 156us/sample - loss: 0.3820\n",
      "Epoch 118/250\n",
      "22640/22640 [==============================] - 4s 179us/sample - loss: 0.3803\n",
      "Epoch 119/250\n",
      "22640/22640 [==============================] - 4s 163us/sample - loss: 0.3819\n",
      "Epoch 120/250\n",
      "22640/22640 [==============================] - 4s 159us/sample - loss: 0.3871\n",
      "Epoch 121/250\n",
      "22640/22640 [==============================] - 4s 163us/sample - loss: 0.3894\n",
      "Epoch 122/250\n",
      "22640/22640 [==============================] - 4s 177us/sample - loss: 0.3831\n",
      "Epoch 123/250\n",
      "22640/22640 [==============================] - 4s 174us/sample - loss: 0.3846\n",
      "Epoch 124/250\n",
      "22496/22640 [============================>.] - ETA: 0s - loss: 0.3833\n",
      "Epoch 00124: ReduceLROnPlateau reducing learning rate to 0.0006000000284984708.\n",
      "22640/22640 [==============================] - 3s 149us/sample - loss: 0.3821\n",
      "Epoch 125/250\n",
      "22640/22640 [==============================] - 3s 153us/sample - loss: 0.3764\n",
      "Epoch 126/250\n",
      "22640/22640 [==============================] - 3s 151us/sample - loss: 0.3740\n",
      "Epoch 127/250\n",
      "22640/22640 [==============================] - 3s 140us/sample - loss: 0.3736\n",
      "Epoch 128/250\n",
      "22640/22640 [==============================] - 3s 142us/sample - loss: 0.3741\n",
      "Epoch 129/250\n",
      "22640/22640 [==============================] - 3s 149us/sample - loss: 0.3725\n",
      "Epoch 130/250\n",
      "22640/22640 [==============================] - 3s 136us/sample - loss: 0.3741\n",
      "Epoch 131/250\n",
      "22640/22640 [==============================] - 4s 160us/sample - loss: 0.3723\n",
      "Epoch 132/250\n",
      "22640/22640 [==============================] - 4s 172us/sample - loss: 0.3737\n",
      "Epoch 133/250\n",
      "22640/22640 [==============================] - 4s 178us/sample - loss: 0.3719\n",
      "Epoch 134/250\n",
      "22640/22640 [==============================] - 4s 196us/sample - loss: 0.3728\n",
      "Epoch 135/250\n",
      "22640/22640 [==============================] - 4s 168us/sample - loss: 0.3712\n",
      "Epoch 136/250\n",
      "22640/22640 [==============================] - 4s 168us/sample - loss: 0.3722\n",
      "Epoch 137/250\n",
      "22640/22640 [==============================] - 4s 170us/sample - loss: 0.3736\n",
      "Epoch 138/250\n",
      "22640/22640 [==============================] - 4s 170us/sample - loss: 0.3739\n",
      "Epoch 139/250\n",
      "22640/22640 [==============================] - 4s 168us/sample - loss: 0.3715\n",
      "Epoch 140/250\n",
      "22640/22640 [==============================] - 4s 170us/sample - loss: 0.3726\n",
      "Epoch 141/250\n",
      "22640/22640 [==============================] - 4s 175us/sample - loss: 0.3694\n",
      "Epoch 142/250\n",
      "22640/22640 [==============================] - 4s 175us/sample - loss: 0.3696\n",
      "Epoch 143/250\n",
      "22640/22640 [==============================] - 4s 180us/sample - loss: 0.3722\n",
      "Epoch 144/250\n",
      "22640/22640 [==============================] - 4s 171us/sample - loss: 0.3722\n",
      "Epoch 145/250\n",
      "22640/22640 [==============================] - 4s 177us/sample - loss: 0.3715\n",
      "Epoch 146/250\n",
      "22640/22640 [==============================] - 4s 173us/sample - loss: 0.3709\n",
      "Epoch 147/250\n",
      "22640/22640 [==============================] - 4s 166us/sample - loss: 0.3679\n",
      "Epoch 148/250\n",
      "22640/22640 [==============================] - 4s 172us/sample - loss: 0.3701\n",
      "Epoch 149/250\n",
      "22640/22640 [==============================] - 4s 167us/sample - loss: 0.3723\n",
      "Epoch 150/250\n",
      "22640/22640 [==============================] - 4s 177us/sample - loss: 0.3721\n",
      "Epoch 151/250\n",
      "22640/22640 [==============================] - 4s 162us/sample - loss: 0.3732\n",
      "Epoch 152/250\n",
      "22640/22640 [==============================] - 4s 185us/sample - loss: 0.3714\n",
      "Epoch 153/250\n",
      "22640/22640 [==============================] - 4s 169us/sample - loss: 0.3705\n",
      "Epoch 154/250\n",
      "22640/22640 [==============================] - 4s 163us/sample - loss: 0.3738\n",
      "Epoch 155/250\n",
      "22640/22640 [==============================] - 4s 177us/sample - loss: 0.3708\n",
      "Epoch 156/250\n",
      "22640/22640 [==============================] - 4s 165us/sample - loss: 0.3724\n",
      "Epoch 157/250\n",
      "22640/22640 [==============================] - 4s 170us/sample - loss: 0.3700\n",
      "Epoch 158/250\n",
      "22640/22640 [==============================] - 4s 166us/sample - loss: 0.3699\n",
      "Epoch 159/250\n",
      "22640/22640 [==============================] - 4s 160us/sample - loss: 0.3692\n",
      "Epoch 160/250\n",
      "22640/22640 [==============================] - 4s 160us/sample - loss: 0.3691\n",
      "Epoch 161/250\n",
      "22640/22640 [==============================] - 3s 146us/sample - loss: 0.3676\n",
      "Epoch 162/250\n",
      "22640/22640 [==============================] - 3s 148us/sample - loss: 0.3693\n",
      "Epoch 163/250\n",
      "22640/22640 [==============================] - 4s 155us/sample - loss: 0.3656\n",
      "Epoch 164/250\n",
      "22640/22640 [==============================] - 3s 154us/sample - loss: 0.3660\n",
      "Epoch 165/250\n",
      "22640/22640 [==============================] - 4s 155us/sample - loss: 0.3662\n",
      "Epoch 166/250\n",
      "22640/22640 [==============================] - 4s 159us/sample - loss: 0.3664\n",
      "Epoch 167/250\n",
      "22640/22640 [==============================] - 4s 165us/sample - loss: 0.3643\n",
      "Epoch 168/250\n",
      "22640/22640 [==============================] - 3s 152us/sample - loss: 0.3692\n",
      "Epoch 169/250\n",
      "22640/22640 [==============================] - 3s 150us/sample - loss: 0.3660\n",
      "Epoch 170/250\n",
      "22640/22640 [==============================] - 4s 160us/sample - loss: 0.3648\n",
      "Epoch 171/250\n",
      "22640/22640 [==============================] - 3s 153us/sample - loss: 0.3649\n",
      "Epoch 172/250\n",
      "22640/22640 [==============================] - 4s 157us/sample - loss: 0.3654\n",
      "Epoch 173/250\n",
      "22640/22640 [==============================] - 4s 159us/sample - loss: 0.3696\n",
      "Epoch 174/250\n",
      "22640/22640 [==============================] - 3s 151us/sample - loss: 0.3665\n",
      "Epoch 175/250\n",
      "22640/22640 [==============================] - 4s 155us/sample - loss: 0.3658\n",
      "Epoch 176/250\n",
      "22640/22640 [==============================] - 3s 153us/sample - loss: 0.3639\n",
      "Epoch 177/250\n",
      "22640/22640 [==============================] - 4s 186us/sample - loss: 0.3650\n",
      "Epoch 178/250\n"
     ]
    },
    {
     "name": "stdout",
     "output_type": "stream",
     "text": [
      "22640/22640 [==============================] - 3s 141us/sample - loss: 0.3648\n",
      "Epoch 179/250\n",
      "22640/22640 [==============================] - 3s 142us/sample - loss: 0.3640\n",
      "Epoch 180/250\n",
      "22640/22640 [==============================] - 4s 155us/sample - loss: 0.3669\n",
      "Epoch 181/250\n",
      "22640/22640 [==============================] - 3s 142us/sample - loss: 0.3661\n",
      "Epoch 182/250\n",
      "22640/22640 [==============================] - 3s 145us/sample - loss: 0.3666\n",
      "Epoch 183/250\n",
      "22640/22640 [==============================] - 3s 144us/sample - loss: 0.3641\n",
      "Epoch 184/250\n",
      "22640/22640 [==============================] - 3s 149us/sample - loss: 0.3636\n",
      "Epoch 185/250\n",
      "22640/22640 [==============================] - 4s 161us/sample - loss: 0.3639\n",
      "Epoch 186/250\n",
      "22640/22640 [==============================] - 3s 149us/sample - loss: 0.3650\n",
      "Epoch 187/250\n",
      "22640/22640 [==============================] - 3s 153us/sample - loss: 0.3641\n",
      "Epoch 188/250\n",
      "22640/22640 [==============================] - 3s 148us/sample - loss: 0.3637\n",
      "Epoch 189/250\n",
      "22640/22640 [==============================] - 3s 147us/sample - loss: 0.3632\n",
      "Epoch 190/250\n",
      "22640/22640 [==============================] - 4s 157us/sample - loss: 0.3653\n",
      "Epoch 191/250\n",
      "22640/22640 [==============================] - 4s 160us/sample - loss: 0.3615\n",
      "Epoch 192/250\n",
      "22640/22640 [==============================] - 3s 145us/sample - loss: 0.3660\n",
      "Epoch 193/250\n",
      "22640/22640 [==============================] - 3s 148us/sample - loss: 0.3632\n",
      "Epoch 194/250\n",
      "22640/22640 [==============================] - 3s 154us/sample - loss: 0.3634\n",
      "Epoch 195/250\n",
      "22640/22640 [==============================] - 3s 153us/sample - loss: 0.3647\n",
      "Epoch 196/250\n",
      "22640/22640 [==============================] - 3s 148us/sample - loss: 0.3654\n",
      "Epoch 197/250\n",
      "22640/22640 [==============================] - 3s 145us/sample - loss: 0.3645\n",
      "Epoch 198/250\n",
      "22640/22640 [==============================] - 4s 155us/sample - loss: 0.3641\n",
      "Epoch 199/250\n",
      "22640/22640 [==============================] - 3s 148us/sample - loss: 0.3619\n",
      "Epoch 200/250\n",
      "22640/22640 [==============================] - 4s 155us/sample - loss: 0.3594\n",
      "Epoch 201/250\n",
      "22640/22640 [==============================] - 3s 151us/sample - loss: 0.3623\n",
      "Epoch 202/250\n",
      "22640/22640 [==============================] - 4s 157us/sample - loss: 0.3628\n",
      "Epoch 203/250\n",
      "22640/22640 [==============================] - 3s 146us/sample - loss: 0.3655\n",
      "Epoch 204/250\n",
      "22640/22640 [==============================] - 3s 148us/sample - loss: 0.3619\n",
      "Epoch 205/250\n",
      "22640/22640 [==============================] - 3s 148us/sample - loss: 0.3605\n",
      "Epoch 206/250\n",
      "22640/22640 [==============================] - 3s 144us/sample - loss: 0.3599\n",
      "Epoch 207/250\n",
      "22640/22640 [==============================] - 3s 150us/sample - loss: 0.3624\n",
      "Epoch 208/250\n",
      "22640/22640 [==============================] - 3s 148us/sample - loss: 0.3630\n",
      "Epoch 209/250\n",
      "22640/22640 [==============================] - 3s 149us/sample - loss: 0.3594\n",
      "Epoch 210/250\n",
      "22640/22640 [==============================] - 3s 149us/sample - loss: 0.3629\n",
      "Epoch 211/250\n",
      "22640/22640 [==============================] - 4s 157us/sample - loss: 0.3626\n",
      "Epoch 212/250\n",
      "22640/22640 [==============================] - 4s 157us/sample - loss: 0.3623\n",
      "Epoch 213/250\n",
      "22640/22640 [==============================] - 4s 165us/sample - loss: 0.3607\n",
      "Epoch 214/250\n",
      "22640/22640 [==============================] - 4s 155us/sample - loss: 0.3609\n",
      "Epoch 215/250\n",
      "22336/22640 [============================>.] - ETA: 0s - loss: 0.3643\n",
      "Epoch 00215: ReduceLROnPlateau reducing learning rate to 0.0003600000170990825.\n",
      "22640/22640 [==============================] - 3s 150us/sample - loss: 0.3652\n",
      "Epoch 216/250\n",
      "22640/22640 [==============================] - 3s 148us/sample - loss: 0.3582\n",
      "Epoch 217/250\n",
      "22640/22640 [==============================] - 4s 160us/sample - loss: 0.3563\n",
      "Epoch 218/250\n",
      "22640/22640 [==============================] - 3s 152us/sample - loss: 0.3564\n",
      "Epoch 219/250\n",
      "22640/22640 [==============================] - 4s 157us/sample - loss: 0.3552\n",
      "Epoch 220/250\n",
      "22640/22640 [==============================] - 3s 148us/sample - loss: 0.3575\n",
      "Epoch 221/250\n",
      "22640/22640 [==============================] - 3s 149us/sample - loss: 0.3551\n",
      "Epoch 222/250\n",
      "22640/22640 [==============================] - 4s 165us/sample - loss: 0.3560\n",
      "Epoch 223/250\n",
      "22640/22640 [==============================] - 3s 147us/sample - loss: 0.3541\n",
      "Epoch 224/250\n",
      "22640/22640 [==============================] - 3s 137us/sample - loss: 0.3559\n",
      "Epoch 225/250\n",
      "22640/22640 [==============================] - 3s 144us/sample - loss: 0.3566\n",
      "Epoch 226/250\n",
      "22640/22640 [==============================] - 3s 146us/sample - loss: 0.3564\n",
      "Epoch 227/250\n",
      "22640/22640 [==============================] - 3s 142us/sample - loss: 0.3536\n",
      "Epoch 228/250\n",
      "22640/22640 [==============================] - 4s 156us/sample - loss: 0.3542\n",
      "Epoch 229/250\n",
      "22640/22640 [==============================] - 3s 146us/sample - loss: 0.3527\n",
      "Epoch 230/250\n",
      "22640/22640 [==============================] - 4s 157us/sample - loss: 0.3553\n",
      "Epoch 231/250\n",
      "22640/22640 [==============================] - 4s 156us/sample - loss: 0.3557\n",
      "Epoch 232/250\n",
      "22640/22640 [==============================] - 3s 142us/sample - loss: 0.3565\n",
      "Epoch 233/250\n",
      "22640/22640 [==============================] - 3s 151us/sample - loss: 0.3566\n",
      "Epoch 234/250\n",
      "22640/22640 [==============================] - 4s 164us/sample - loss: 0.3559\n",
      "Epoch 235/250\n",
      "22640/22640 [==============================] - 4s 166us/sample - loss: 0.3535\n",
      "Epoch 236/250\n",
      "22640/22640 [==============================] - 4s 171us/sample - loss: 0.3537\n",
      "Epoch 237/250\n",
      "22640/22640 [==============================] - 4s 173us/sample - loss: 0.3544\n",
      "Epoch 238/250\n",
      "22640/22640 [==============================] - 4s 161us/sample - loss: 0.3553\n",
      "Epoch 239/250\n",
      "22640/22640 [==============================] - 3s 146us/sample - loss: 0.3537\n",
      "Epoch 240/250\n",
      "22640/22640 [==============================] - 3s 136us/sample - loss: 0.3506\n",
      "Epoch 241/250\n",
      "22640/22640 [==============================] - 3s 136us/sample - loss: 0.3540\n",
      "Epoch 242/250\n",
      "22640/22640 [==============================] - 3s 136us/sample - loss: 0.3535\n",
      "Epoch 243/250\n",
      "22640/22640 [==============================] - 3s 137us/sample - loss: 0.3518\n",
      "Epoch 244/250\n",
      "22640/22640 [==============================] - 3s 149us/sample - loss: 0.3494\n",
      "Epoch 245/250\n",
      "22640/22640 [==============================] - 4s 168us/sample - loss: 0.3471\n",
      "Epoch 246/250\n",
      "22640/22640 [==============================] - 3s 150us/sample - loss: 0.3502\n",
      "Epoch 247/250\n",
      "22640/22640 [==============================] - 3s 146us/sample - loss: 0.3488\n",
      "Epoch 248/250\n",
      "22640/22640 [==============================] - 3s 141us/sample - loss: 0.3499\n",
      "Epoch 249/250\n",
      "22640/22640 [==============================] - 3s 142us/sample - loss: 0.3496\n",
      "Epoch 250/250\n",
      "22640/22640 [==============================] - 3s 141us/sample - loss: 0.3487\n"
     ]
    }
   ],
   "source": [
    "hist = model.fit(x=[X_lstm,X_dense],y=y\n",
    "          ,epochs=250,callbacks=callbacks)"
   ]
  },
  {
   "cell_type": "code",
   "execution_count": 63,
   "metadata": {},
   "outputs": [],
   "source": [
    "loss = hist.history['loss']"
   ]
  },
  {
   "cell_type": "code",
   "execution_count": 64,
   "metadata": {},
   "outputs": [],
   "source": [
    "import seaborn as sns\n",
    "import matplotlib.pyplot as plt\n",
    "sns.set()"
   ]
  },
  {
   "cell_type": "code",
   "execution_count": 75,
   "metadata": {},
   "outputs": [
    {
     "data": {
      "image/png": "[encoded data removed]",
      "text/plain": [
       "<Figure size 1080x864 with 1 Axes>"
      ]
     },
     "metadata": {},
     "output_type": "display_data"
    }
   ],
   "source": [
    "plt.figure(figsize=(15,12))\n",
    "plt.plot(range(len(loss)),loss)\n",
    "plt.xticks(range(0,len(loss)+10,10));\n",
    "plt.yticks(np.arange(min(loss),max(loss),0.1))\n",
    "plt.title('Loss during training')\n",
    "plt.xlabel('Epochs')\n",
    "plt.ylabel('Loss value');"
   ]
  },
  {
   "cell_type": "markdown",
   "metadata": {},
   "source": [
    "# Predicting with a model"
   ]
  },
  {
   "cell_type": "code",
   "execution_count": 151,
   "metadata": {},
   "outputs": [],
   "source": [
    "test_data = pd.read_csv('test.csv')"
   ]
  },
  {
   "cell_type": "code",
   "execution_count": 152,
   "metadata": {},
   "outputs": [
    {
     "data": {
      "text/html": [
       "<div>\n",
       "<style scoped>\n",
       "    .dataframe tbody tr th:only-of-type {\n",
       "        vertical-align: middle;\n",
       "    }\n",
       "\n",
       "    .dataframe tbody tr th {\n",
       "        vertical-align: top;\n",
       "    }\n",
       "\n",
       "    .dataframe thead th {\n",
       "        text-align: right;\n",
       "    }\n",
       "</style>\n",
       "<table border=\"1\" class=\"dataframe\">\n",
       "  <thead>\n",
       "    <tr style=\"text-align: right;\">\n",
       "      <th></th>\n",
       "      <th>ForecastId</th>\n",
       "      <th>Province_State</th>\n",
       "      <th>Country_Region</th>\n",
       "      <th>Date</th>\n",
       "    </tr>\n",
       "  </thead>\n",
       "  <tbody>\n",
       "    <tr>\n",
       "      <th>0</th>\n",
       "      <td>1</td>\n",
       "      <td>NaN</td>\n",
       "      <td>Afghanistan</td>\n",
       "      <td>2020-03-26</td>\n",
       "    </tr>\n",
       "    <tr>\n",
       "      <th>1</th>\n",
       "      <td>2</td>\n",
       "      <td>NaN</td>\n",
       "      <td>Afghanistan</td>\n",
       "      <td>2020-03-27</td>\n",
       "    </tr>\n",
       "    <tr>\n",
       "      <th>2</th>\n",
       "      <td>3</td>\n",
       "      <td>NaN</td>\n",
       "      <td>Afghanistan</td>\n",
       "      <td>2020-03-28</td>\n",
       "    </tr>\n",
       "    <tr>\n",
       "      <th>3</th>\n",
       "      <td>4</td>\n",
       "      <td>NaN</td>\n",
       "      <td>Afghanistan</td>\n",
       "      <td>2020-03-29</td>\n",
       "    </tr>\n",
       "    <tr>\n",
       "      <th>4</th>\n",
       "      <td>5</td>\n",
       "      <td>NaN</td>\n",
       "      <td>Afghanistan</td>\n",
       "      <td>2020-03-30</td>\n",
       "    </tr>\n",
       "  </tbody>\n",
       "</table>\n",
       "</div>"
      ],
      "text/plain": [
       "   ForecastId Province_State Country_Region        Date\n",
       "0           1            NaN    Afghanistan  2020-03-26\n",
       "1           2            NaN    Afghanistan  2020-03-27\n",
       "2           3            NaN    Afghanistan  2020-03-28\n",
       "3           4            NaN    Afghanistan  2020-03-29\n",
       "4           5            NaN    Afghanistan  2020-03-30"
      ]
     },
     "execution_count": 152,
     "metadata": {},
     "output_type": "execute_result"
    }
   ],
   "source": [
    "test_data.head()"
   ]
  },
  {
   "cell_type": "code",
   "execution_count": 153,
   "metadata": {},
   "outputs": [],
   "source": [
    "test_data['Date'] = pd.to_datetime(test_data['Date'])"
   ]
  },
  {
   "cell_type": "code",
   "execution_count": 154,
   "metadata": {},
   "outputs": [],
   "source": [
    "test_data['Province_State'] = test_data['Province_State'].fillna('unknown')"
   ]
  },
  {
   "cell_type": "code",
   "execution_count": 155,
   "metadata": {},
   "outputs": [
    {
     "data": {
      "text/html": [
       "<div>\n",
       "<style scoped>\n",
       "    .dataframe tbody tr th:only-of-type {\n",
       "        vertical-align: middle;\n",
       "    }\n",
       "\n",
       "    .dataframe tbody tr th {\n",
       "        vertical-align: top;\n",
       "    }\n",
       "\n",
       "    .dataframe thead th {\n",
       "        text-align: right;\n",
       "    }\n",
       "</style>\n",
       "<table border=\"1\" class=\"dataframe\">\n",
       "  <thead>\n",
       "    <tr style=\"text-align: right;\">\n",
       "      <th></th>\n",
       "      <th>ForecastId</th>\n",
       "      <th>Province_State</th>\n",
       "      <th>Country_Region</th>\n",
       "      <th>Date</th>\n",
       "    </tr>\n",
       "  </thead>\n",
       "  <tbody>\n",
       "    <tr>\n",
       "      <th>0</th>\n",
       "      <td>1</td>\n",
       "      <td>unknown</td>\n",
       "      <td>Afghanistan</td>\n",
       "      <td>2020-03-26</td>\n",
       "    </tr>\n",
       "    <tr>\n",
       "      <th>1</th>\n",
       "      <td>2</td>\n",
       "      <td>unknown</td>\n",
       "      <td>Afghanistan</td>\n",
       "      <td>2020-03-27</td>\n",
       "    </tr>\n",
       "    <tr>\n",
       "      <th>2</th>\n",
       "      <td>3</td>\n",
       "      <td>unknown</td>\n",
       "      <td>Afghanistan</td>\n",
       "      <td>2020-03-28</td>\n",
       "    </tr>\n",
       "    <tr>\n",
       "      <th>3</th>\n",
       "      <td>4</td>\n",
       "      <td>unknown</td>\n",
       "      <td>Afghanistan</td>\n",
       "      <td>2020-03-29</td>\n",
       "    </tr>\n",
       "    <tr>\n",
       "      <th>4</th>\n",
       "      <td>5</td>\n",
       "      <td>unknown</td>\n",
       "      <td>Afghanistan</td>\n",
       "      <td>2020-03-30</td>\n",
       "    </tr>\n",
       "  </tbody>\n",
       "</table>\n",
       "</div>"
      ],
      "text/plain": [
       "   ForecastId Province_State Country_Region       Date\n",
       "0           1        unknown    Afghanistan 2020-03-26\n",
       "1           2        unknown    Afghanistan 2020-03-27\n",
       "2           3        unknown    Afghanistan 2020-03-28\n",
       "3           4        unknown    Afghanistan 2020-03-29\n",
       "4           5        unknown    Afghanistan 2020-03-30"
      ]
     },
     "execution_count": 155,
     "metadata": {},
     "output_type": "execute_result"
    }
   ],
   "source": [
    "test_data.head()"
   ]
  },
  {
   "cell_type": "code",
   "execution_count": 167,
   "metadata": {},
   "outputs": [],
   "source": [
    "def predict(model,X_lstm,X_dense,test_data,mapping_region,mapping_province):\n",
    "    submission = []\n",
    "    for i in range(len(test_data)):     \n",
    "        pred = model.predict([[X_lstm],[X_dense]])\n",
    "        pred = pred.astype(int)\n",
    "        submission.append(pred)\n",
    "        X_lstm = np.vstack((X_lstm,pred))[-4:]\n",
    "        country_one_hot = tf.keras.utils.to_categorical(\n",
    "                mapping_region[test_data['Country_Region'].values[i]],len(mapping_region)).reshape(1,-1)\n",
    "        province_one_hot = tf.keras.utils.to_categorical(\n",
    "                mapping_province[test_data['Province_State'].values[i]],len(mapping_province)).reshape(1,-1)\n",
    "        X_dense = np.concatenate((np.array(country_one_hot), np.array(province_one_hot)),axis=1)\n",
    "    return np.array(submission)"
   ]
  },
  {
   "cell_type": "code",
   "execution_count": 168,
   "metadata": {},
   "outputs": [],
   "source": [
    "submission = predict(model,X_lstm.copy()[-1],X_dense.copy()[-1],test_data,mapping_region,mapping_province)"
   ]
  },
  {
   "cell_type": "code",
   "execution_count": 169,
   "metadata": {},
   "outputs": [
    {
     "data": {
      "text/plain": [
       "(13158, 13158)"
      ]
     },
     "execution_count": 169,
     "metadata": {},
     "output_type": "execute_result"
    }
   ],
   "source": [
    "len(submission),len(test_data)"
   ]
  },
  {
   "cell_type": "code",
   "execution_count": 181,
   "metadata": {},
   "outputs": [],
   "source": [
    "test_data['ConfirmedCases'] = submission[:,:,:1].reshape(-1,1)"
   ]
  },
  {
   "cell_type": "code",
   "execution_count": 182,
   "metadata": {},
   "outputs": [
    {
     "data": {
      "text/html": [
       "<div>\n",
       "<style scoped>\n",
       "    .dataframe tbody tr th:only-of-type {\n",
       "        vertical-align: middle;\n",
       "    }\n",
       "\n",
       "    .dataframe tbody tr th {\n",
       "        vertical-align: top;\n",
       "    }\n",
       "\n",
       "    .dataframe thead th {\n",
       "        text-align: right;\n",
       "    }\n",
       "</style>\n",
       "<table border=\"1\" class=\"dataframe\">\n",
       "  <thead>\n",
       "    <tr style=\"text-align: right;\">\n",
       "      <th></th>\n",
       "      <th>ForecastId</th>\n",
       "      <th>Province_State</th>\n",
       "      <th>Country_Region</th>\n",
       "      <th>Date</th>\n",
       "      <th>ConfirmedCases</th>\n",
       "    </tr>\n",
       "  </thead>\n",
       "  <tbody>\n",
       "    <tr>\n",
       "      <th>0</th>\n",
       "      <td>1</td>\n",
       "      <td>unknown</td>\n",
       "      <td>Afghanistan</td>\n",
       "      <td>2020-03-26</td>\n",
       "      <td>10</td>\n",
       "    </tr>\n",
       "    <tr>\n",
       "      <th>1</th>\n",
       "      <td>2</td>\n",
       "      <td>unknown</td>\n",
       "      <td>Afghanistan</td>\n",
       "      <td>2020-03-27</td>\n",
       "      <td>11</td>\n",
       "    </tr>\n",
       "    <tr>\n",
       "      <th>2</th>\n",
       "      <td>3</td>\n",
       "      <td>unknown</td>\n",
       "      <td>Afghanistan</td>\n",
       "      <td>2020-03-28</td>\n",
       "      <td>15</td>\n",
       "    </tr>\n",
       "    <tr>\n",
       "      <th>3</th>\n",
       "      <td>4</td>\n",
       "      <td>unknown</td>\n",
       "      <td>Afghanistan</td>\n",
       "      <td>2020-03-29</td>\n",
       "      <td>16</td>\n",
       "    </tr>\n",
       "    <tr>\n",
       "      <th>4</th>\n",
       "      <td>5</td>\n",
       "      <td>unknown</td>\n",
       "      <td>Afghanistan</td>\n",
       "      <td>2020-03-30</td>\n",
       "      <td>15</td>\n",
       "    </tr>\n",
       "  </tbody>\n",
       "</table>\n",
       "</div>"
      ],
      "text/plain": [
       "   ForecastId Province_State Country_Region       Date  ConfirmedCases\n",
       "0           1        unknown    Afghanistan 2020-03-26              10\n",
       "1           2        unknown    Afghanistan 2020-03-27              11\n",
       "2           3        unknown    Afghanistan 2020-03-28              15\n",
       "3           4        unknown    Afghanistan 2020-03-29              16\n",
       "4           5        unknown    Afghanistan 2020-03-30              15"
      ]
     },
     "execution_count": 182,
     "metadata": {},
     "output_type": "execute_result"
    }
   ],
   "source": [
    "test_data.head()"
   ]
  },
  {
   "cell_type": "code",
   "execution_count": 192,
   "metadata": {},
   "outputs": [],
   "source": [
    "test_data['Fatalities'] = submission[:,:,1:].reshape(-1,1)"
   ]
  },
  {
   "cell_type": "code",
   "execution_count": 193,
   "metadata": {},
   "outputs": [
    {
     "data": {
      "text/html": [
       "<div>\n",
       "<style scoped>\n",
       "    .dataframe tbody tr th:only-of-type {\n",
       "        vertical-align: middle;\n",
       "    }\n",
       "\n",
       "    .dataframe tbody tr th {\n",
       "        vertical-align: top;\n",
       "    }\n",
       "\n",
       "    .dataframe thead th {\n",
       "        text-align: right;\n",
       "    }\n",
       "</style>\n",
       "<table border=\"1\" class=\"dataframe\">\n",
       "  <thead>\n",
       "    <tr style=\"text-align: right;\">\n",
       "      <th></th>\n",
       "      <th>ForecastId</th>\n",
       "      <th>Province_State</th>\n",
       "      <th>Country_Region</th>\n",
       "      <th>Date</th>\n",
       "      <th>ConfirmedCases</th>\n",
       "      <th>Fatalities</th>\n",
       "    </tr>\n",
       "  </thead>\n",
       "  <tbody>\n",
       "    <tr>\n",
       "      <th>0</th>\n",
       "      <td>1</td>\n",
       "      <td>unknown</td>\n",
       "      <td>Afghanistan</td>\n",
       "      <td>2020-03-26</td>\n",
       "      <td>10</td>\n",
       "      <td>1</td>\n",
       "    </tr>\n",
       "    <tr>\n",
       "      <th>1</th>\n",
       "      <td>2</td>\n",
       "      <td>unknown</td>\n",
       "      <td>Afghanistan</td>\n",
       "      <td>2020-03-27</td>\n",
       "      <td>11</td>\n",
       "      <td>0</td>\n",
       "    </tr>\n",
       "    <tr>\n",
       "      <th>2</th>\n",
       "      <td>3</td>\n",
       "      <td>unknown</td>\n",
       "      <td>Afghanistan</td>\n",
       "      <td>2020-03-28</td>\n",
       "      <td>15</td>\n",
       "      <td>0</td>\n",
       "    </tr>\n",
       "    <tr>\n",
       "      <th>3</th>\n",
       "      <td>4</td>\n",
       "      <td>unknown</td>\n",
       "      <td>Afghanistan</td>\n",
       "      <td>2020-03-29</td>\n",
       "      <td>16</td>\n",
       "      <td>0</td>\n",
       "    </tr>\n",
       "    <tr>\n",
       "      <th>4</th>\n",
       "      <td>5</td>\n",
       "      <td>unknown</td>\n",
       "      <td>Afghanistan</td>\n",
       "      <td>2020-03-30</td>\n",
       "      <td>15</td>\n",
       "      <td>0</td>\n",
       "    </tr>\n",
       "  </tbody>\n",
       "</table>\n",
       "</div>"
      ],
      "text/plain": [
       "   ForecastId Province_State Country_Region       Date  ConfirmedCases  \\\n",
       "0           1        unknown    Afghanistan 2020-03-26              10   \n",
       "1           2        unknown    Afghanistan 2020-03-27              11   \n",
       "2           3        unknown    Afghanistan 2020-03-28              15   \n",
       "3           4        unknown    Afghanistan 2020-03-29              16   \n",
       "4           5        unknown    Afghanistan 2020-03-30              15   \n",
       "\n",
       "   Fatalities  \n",
       "0           1  \n",
       "1           0  \n",
       "2           0  \n",
       "3           0  \n",
       "4           0  "
      ]
     },
     "execution_count": 193,
     "metadata": {},
     "output_type": "execute_result"
    }
   ],
   "source": [
    "test_data.head()"
   ]
  },
  {
   "cell_type": "code",
   "execution_count": 194,
   "metadata": {},
   "outputs": [],
   "source": [
    "submission_data = test_data[['ForecastId','ConfirmedCases','Fatalities']]"
   ]
  },
  {
   "cell_type": "code",
   "execution_count": 195,
   "metadata": {},
   "outputs": [],
   "source": [
    "submission_data.to_csv('my_submission.csv',index=False)"
   ]
  },
  {
   "cell_type": "code",
   "execution_count": null,
   "metadata": {},
   "outputs": [],
   "source": []
  }
 ],
 "metadata": {
  "kernelspec": {
   "display_name": "Python 3",
   "language": "python",
   "name": "python3"
  },
  "language_info": {
   "codemirror_mode": {
    "name": "ipython",
    "version": 3
   },
   "file_extension": ".py",
   "mimetype": "text/x-python",
   "name": "python",
   "nbconvert_exporter": "python",
   "pygments_lexer": "ipython3",
   "version": "3.7.5"
  }
 },
 "nbformat": 4,
 "nbformat_minor": 4
}
